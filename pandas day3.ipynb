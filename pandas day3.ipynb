{
 "cells": [
  {
   "cell_type": "code",
   "execution_count": 1,
   "id": "e0f651b1",
   "metadata": {},
   "outputs": [],
   "source": [
    "#pandas----used for managing data\n",
    "#series---each column of a dataframe\n",
    "#dataframe----madeup of several series"
   ]
  },
  {
   "cell_type": "code",
   "execution_count": 2,
   "id": "6923a259",
   "metadata": {},
   "outputs": [],
   "source": [
    "import pandas as pd"
   ]
  },
  {
   "cell_type": "code",
   "execution_count": 3,
   "id": "4a5cdf52",
   "metadata": {},
   "outputs": [],
   "source": [
    "import numpy as np"
   ]
  },
  {
   "cell_type": "code",
   "execution_count": 4,
   "id": "9fe7636a",
   "metadata": {},
   "outputs": [],
   "source": [
    "#series\n",
    "mylist=[5.4,6.1,1.7,99.8]\n",
    "myarray=np.array(mylist)"
   ]
  },
  {
   "cell_type": "code",
   "execution_count": 5,
   "id": "84bcb59c",
   "metadata": {},
   "outputs": [
    {
     "name": "stdout",
     "output_type": "stream",
     "text": [
      "0     5.4\n",
      "1     6.1\n",
      "2     1.7\n",
      "3    99.8\n",
      "dtype: float64\n"
     ]
    }
   ],
   "source": [
    "myseries1=pd.Series(data=mylist)\n",
    "print(myseries1)"
   ]
  },
  {
   "cell_type": "code",
   "execution_count": 6,
   "id": "a128c644",
   "metadata": {},
   "outputs": [
    {
     "name": "stdout",
     "output_type": "stream",
     "text": [
      "0     5.4\n",
      "1     6.1\n",
      "2     1.7\n",
      "3    99.8\n",
      "dtype: float64\n"
     ]
    }
   ],
   "source": [
    "myseries2=pd.Series(data=myarray)\n",
    "print(myseries2)"
   ]
  },
  {
   "cell_type": "code",
   "execution_count": 7,
   "id": "8738db72",
   "metadata": {},
   "outputs": [
    {
     "name": "stdout",
     "output_type": "stream",
     "text": [
      "5.4\n"
     ]
    }
   ],
   "source": [
    "print(myseries2[0])"
   ]
  },
  {
   "cell_type": "code",
   "execution_count": 8,
   "id": "935bf17b",
   "metadata": {},
   "outputs": [
    {
     "name": "stdout",
     "output_type": "stream",
     "text": [
      "1.7\n"
     ]
    }
   ],
   "source": [
    "print(myseries2[2])"
   ]
  },
  {
   "cell_type": "code",
   "execution_count": 9,
   "id": "ddfa56df",
   "metadata": {},
   "outputs": [],
   "source": [
    "mylabels=['a','b','c','d']\n",
    "myseries3=pd.Series(data=mylist,index=mylabels)"
   ]
  },
  {
   "cell_type": "code",
   "execution_count": 10,
   "id": "06d50113",
   "metadata": {},
   "outputs": [
    {
     "name": "stdout",
     "output_type": "stream",
     "text": [
      "a     5.4\n",
      "b     6.1\n",
      "c     1.7\n",
      "d    99.8\n",
      "dtype: float64\n"
     ]
    }
   ],
   "source": [
    "print(myseries3)"
   ]
  },
  {
   "cell_type": "code",
   "execution_count": 11,
   "id": "e2c8825f",
   "metadata": {},
   "outputs": [
    {
     "name": "stdout",
     "output_type": "stream",
     "text": [
      "5.4\n"
     ]
    }
   ],
   "source": [
    "print(myseries3['a'])"
   ]
  },
  {
   "cell_type": "code",
   "execution_count": 12,
   "id": "fc59608e",
   "metadata": {},
   "outputs": [
    {
     "name": "stdout",
     "output_type": "stream",
     "text": [
      "a     5.4\n",
      "b     6.1\n",
      "c     1.7\n",
      "d    99.8\n",
      "dtype: float64\n"
     ]
    }
   ],
   "source": [
    "myseries4=pd.Series(mylist,mylabels)\n",
    "print(myseries4)"
   ]
  },
  {
   "cell_type": "code",
   "execution_count": 13,
   "id": "4481a533",
   "metadata": {},
   "outputs": [],
   "source": [
    "myseries5=pd.Series([5.5,1.1,8.8,1.6],['a','b','x','y'])"
   ]
  },
  {
   "cell_type": "code",
   "execution_count": 14,
   "id": "cd1f8bf7",
   "metadata": {},
   "outputs": [
    {
     "name": "stdout",
     "output_type": "stream",
     "text": [
      "a    5.5\n",
      "b    1.1\n",
      "x    8.8\n",
      "y    1.6\n",
      "dtype: float64\n"
     ]
    }
   ],
   "source": [
    "print(myseries5)"
   ]
  },
  {
   "cell_type": "code",
   "execution_count": 15,
   "id": "6fa6e619",
   "metadata": {},
   "outputs": [
    {
     "name": "stdout",
     "output_type": "stream",
     "text": [
      "a    10.9\n",
      "b     7.2\n",
      "c     NaN\n",
      "d     NaN\n",
      "x     NaN\n",
      "y     NaN\n",
      "dtype: float64\n"
     ]
    }
   ],
   "source": [
    "print(myseries4+myseries5)"
   ]
  },
  {
   "cell_type": "code",
   "execution_count": 16,
   "id": "e22b101f",
   "metadata": {},
   "outputs": [],
   "source": [
    "#combine series\n",
    "#combine series horizontally"
   ]
  },
  {
   "cell_type": "code",
   "execution_count": 17,
   "id": "a845c246",
   "metadata": {},
   "outputs": [],
   "source": [
    "s=pd.concat([myseries4,myseries5],axis=0)"
   ]
  },
  {
   "cell_type": "code",
   "execution_count": 18,
   "id": "acc5d9a8",
   "metadata": {},
   "outputs": [
    {
     "name": "stdout",
     "output_type": "stream",
     "text": [
      "a     5.4\n",
      "b     6.1\n",
      "c     1.7\n",
      "d    99.8\n",
      "a     5.5\n",
      "b     1.1\n",
      "x     8.8\n",
      "y     1.6\n",
      "dtype: float64\n"
     ]
    }
   ],
   "source": [
    "print(s)"
   ]
  },
  {
   "cell_type": "code",
   "execution_count": 19,
   "id": "b4a3f6b8",
   "metadata": {},
   "outputs": [],
   "source": [
    "#combine series vertically-----dataframe"
   ]
  },
  {
   "cell_type": "code",
   "execution_count": 20,
   "id": "df22246d",
   "metadata": {},
   "outputs": [],
   "source": [
    "df1=pd.concat([myseries4,myseries5],axis=1)"
   ]
  },
  {
   "cell_type": "code",
   "execution_count": 21,
   "id": "76145747",
   "metadata": {},
   "outputs": [
    {
     "name": "stdout",
     "output_type": "stream",
     "text": [
      "      0    1\n",
      "a   5.4  5.5\n",
      "b   6.1  1.1\n",
      "c   1.7  NaN\n",
      "d  99.8  NaN\n",
      "x   NaN  8.8\n",
      "y   NaN  1.6\n"
     ]
    }
   ],
   "source": [
    "print(df1)"
   ]
  },
  {
   "cell_type": "code",
   "execution_count": 22,
   "id": "02797577",
   "metadata": {},
   "outputs": [],
   "source": [
    "df2=pd.DataFrame(np.random.randn(5,5))"
   ]
  },
  {
   "cell_type": "code",
   "execution_count": 23,
   "id": "c59478ed",
   "metadata": {},
   "outputs": [
    {
     "name": "stdout",
     "output_type": "stream",
     "text": [
      "          0         1         2         3         4\n",
      "0  0.998278  1.278624  0.081904  0.074850  1.087340\n",
      "1  1.003639  0.456240  1.474192 -0.835701 -1.641423\n",
      "2 -0.939263 -0.379669  0.470688  0.803662 -0.382542\n",
      "3  0.551415 -0.168326  0.558843 -0.830839  0.430822\n",
      "4  0.996714  0.818552 -0.627319 -0.660517  1.447155\n"
     ]
    }
   ],
   "source": [
    "print(df2)"
   ]
  },
  {
   "cell_type": "code",
   "execution_count": 24,
   "id": "2921950d",
   "metadata": {},
   "outputs": [],
   "source": [
    "df3=pd.DataFrame(np.random.randn(5,5),index=['row0','row1','row2',\n",
    "                                            'row3','row4'],columns=\n",
    "                ['col0','col1','col2','col3','col4'])"
   ]
  },
  {
   "cell_type": "code",
   "execution_count": 25,
   "id": "bd8529d2",
   "metadata": {},
   "outputs": [
    {
     "name": "stdout",
     "output_type": "stream",
     "text": [
      "          col0      col1      col2      col3      col4\n",
      "row0  0.042410 -0.713718 -1.116744  0.849665 -0.032730\n",
      "row1  0.240375  0.366118  2.336399 -0.107381 -1.028551\n",
      "row2  0.024681 -2.487480  0.788173  0.728980  0.035637\n",
      "row3  1.139447 -0.276028  0.308844 -0.475283  0.150669\n",
      "row4  0.207571 -0.707920  0.370586  0.285517  2.266225\n"
     ]
    }
   ],
   "source": [
    "print(df3)"
   ]
  },
  {
   "cell_type": "code",
   "execution_count": 26,
   "id": "6ff4177d",
   "metadata": {},
   "outputs": [],
   "source": [
    "#access series from data/access individual column from data frame"
   ]
  },
  {
   "cell_type": "code",
   "execution_count": 27,
   "id": "ea13c7cb",
   "metadata": {},
   "outputs": [
    {
     "name": "stdout",
     "output_type": "stream",
     "text": [
      "row0    0.042410\n",
      "row1    0.240375\n",
      "row2    0.024681\n",
      "row3    1.139447\n",
      "row4    0.207571\n",
      "Name: col0, dtype: float64\n"
     ]
    }
   ],
   "source": [
    "print(df3['col0']) #access column"
   ]
  },
  {
   "cell_type": "code",
   "execution_count": 28,
   "id": "42cf7ada",
   "metadata": {},
   "outputs": [
    {
     "name": "stdout",
     "output_type": "stream",
     "text": [
      "          col0      col3      col1\n",
      "row0  0.042410  0.849665 -0.713718\n",
      "row1  0.240375 -0.107381  0.366118\n",
      "row2  0.024681  0.728980 -2.487480\n",
      "row3  1.139447 -0.475283 -0.276028\n",
      "row4  0.207571  0.285517 -0.707920\n"
     ]
    }
   ],
   "source": [
    "print(df3[['col0','col3','col1']]) #access multiple column"
   ]
  },
  {
   "cell_type": "code",
   "execution_count": 29,
   "id": "0ec18429",
   "metadata": {},
   "outputs": [
    {
     "name": "stdout",
     "output_type": "stream",
     "text": [
      "col0    0.042410\n",
      "col1   -0.713718\n",
      "col2   -1.116744\n",
      "col3    0.849665\n",
      "col4   -0.032730\n",
      "Name: row0, dtype: float64\n"
     ]
    }
   ],
   "source": [
    "print(df3.loc['row0']) #access row"
   ]
  },
  {
   "cell_type": "code",
   "execution_count": 30,
   "id": "13aa3a63",
   "metadata": {},
   "outputs": [
    {
     "name": "stdout",
     "output_type": "stream",
     "text": [
      "col0    0.042410\n",
      "col1   -0.713718\n",
      "col2   -1.116744\n",
      "col3    0.849665\n",
      "col4   -0.032730\n",
      "Name: row0, dtype: float64\n"
     ]
    }
   ],
   "source": [
    "print(df3.iloc[0]) #access row"
   ]
  },
  {
   "cell_type": "code",
   "execution_count": 32,
   "id": "4d8a734f",
   "metadata": {},
   "outputs": [
    {
     "name": "stdout",
     "output_type": "stream",
     "text": [
      "          col0      col1      col2      col3      col4\n",
      "row0  0.042410 -0.713718 -1.116744  0.849665 -0.032730\n",
      "row4  0.207571 -0.707920  0.370586  0.285517  2.266225\n",
      "row3  1.139447 -0.276028  0.308844 -0.475283  0.150669\n",
      "row1  0.240375  0.366118  2.336399 -0.107381 -1.028551\n"
     ]
    }
   ],
   "source": [
    "print(df3.loc[['row0','row4','row3','row1']])"
   ]
  },
  {
   "cell_type": "code",
   "execution_count": 33,
   "id": "bd84ca61",
   "metadata": {},
   "outputs": [],
   "source": [
    "#Logical indexing"
   ]
  },
  {
   "cell_type": "code",
   "execution_count": 34,
   "id": "5608091f",
   "metadata": {},
   "outputs": [
    {
     "name": "stdout",
     "output_type": "stream",
     "text": [
      "          col0      col1      col2      col3      col4\n",
      "row0  0.042410       NaN       NaN  0.849665       NaN\n",
      "row1  0.240375  0.366118  2.336399       NaN       NaN\n",
      "row2  0.024681       NaN  0.788173  0.728980  0.035637\n",
      "row3  1.139447       NaN  0.308844       NaN  0.150669\n",
      "row4  0.207571       NaN  0.370586  0.285517  2.266225\n"
     ]
    }
   ],
   "source": [
    "print(df3[df3>0])"
   ]
  },
  {
   "cell_type": "code",
   "execution_count": 35,
   "id": "35e7363e",
   "metadata": {},
   "outputs": [],
   "source": [
    "df3['col5']=np.random.randn(5,1) #adding column to data frame"
   ]
  },
  {
   "cell_type": "code",
   "execution_count": 36,
   "id": "56f0bb51",
   "metadata": {},
   "outputs": [
    {
     "name": "stdout",
     "output_type": "stream",
     "text": [
      "          col0      col1      col2      col3      col4      col5\n",
      "row0  0.042410 -0.713718 -1.116744  0.849665 -0.032730 -0.303801\n",
      "row1  0.240375  0.366118  2.336399 -0.107381 -1.028551  0.730418\n",
      "row2  0.024681 -2.487480  0.788173  0.728980  0.035637  0.391909\n",
      "row3  1.139447 -0.276028  0.308844 -0.475283  0.150669  0.301340\n",
      "row4  0.207571 -0.707920  0.370586  0.285517  2.266225 -0.080021\n"
     ]
    }
   ],
   "source": [
    "print(df3)"
   ]
  },
  {
   "cell_type": "code",
   "execution_count": 37,
   "id": "3ced8b4f",
   "metadata": {},
   "outputs": [
    {
     "data": {
      "text/html": [
       "<div>\n",
       "<style scoped>\n",
       "    .dataframe tbody tr th:only-of-type {\n",
       "        vertical-align: middle;\n",
       "    }\n",
       "\n",
       "    .dataframe tbody tr th {\n",
       "        vertical-align: top;\n",
       "    }\n",
       "\n",
       "    .dataframe thead th {\n",
       "        text-align: right;\n",
       "    }\n",
       "</style>\n",
       "<table border=\"1\" class=\"dataframe\">\n",
       "  <thead>\n",
       "    <tr style=\"text-align: right;\">\n",
       "      <th></th>\n",
       "      <th>col1</th>\n",
       "      <th>col2</th>\n",
       "      <th>col3</th>\n",
       "      <th>col4</th>\n",
       "      <th>col5</th>\n",
       "    </tr>\n",
       "  </thead>\n",
       "  <tbody>\n",
       "    <tr>\n",
       "      <th>row0</th>\n",
       "      <td>-0.713718</td>\n",
       "      <td>-1.116744</td>\n",
       "      <td>0.849665</td>\n",
       "      <td>-0.032730</td>\n",
       "      <td>-0.303801</td>\n",
       "    </tr>\n",
       "    <tr>\n",
       "      <th>row1</th>\n",
       "      <td>0.366118</td>\n",
       "      <td>2.336399</td>\n",
       "      <td>-0.107381</td>\n",
       "      <td>-1.028551</td>\n",
       "      <td>0.730418</td>\n",
       "    </tr>\n",
       "    <tr>\n",
       "      <th>row2</th>\n",
       "      <td>-2.487480</td>\n",
       "      <td>0.788173</td>\n",
       "      <td>0.728980</td>\n",
       "      <td>0.035637</td>\n",
       "      <td>0.391909</td>\n",
       "    </tr>\n",
       "    <tr>\n",
       "      <th>row3</th>\n",
       "      <td>-0.276028</td>\n",
       "      <td>0.308844</td>\n",
       "      <td>-0.475283</td>\n",
       "      <td>0.150669</td>\n",
       "      <td>0.301340</td>\n",
       "    </tr>\n",
       "    <tr>\n",
       "      <th>row4</th>\n",
       "      <td>-0.707920</td>\n",
       "      <td>0.370586</td>\n",
       "      <td>0.285517</td>\n",
       "      <td>2.266225</td>\n",
       "      <td>-0.080021</td>\n",
       "    </tr>\n",
       "  </tbody>\n",
       "</table>\n",
       "</div>"
      ],
      "text/plain": [
       "          col1      col2      col3      col4      col5\n",
       "row0 -0.713718 -1.116744  0.849665 -0.032730 -0.303801\n",
       "row1  0.366118  2.336399 -0.107381 -1.028551  0.730418\n",
       "row2 -2.487480  0.788173  0.728980  0.035637  0.391909\n",
       "row3 -0.276028  0.308844 -0.475283  0.150669  0.301340\n",
       "row4 -0.707920  0.370586  0.285517  2.266225 -0.080021"
      ]
     },
     "execution_count": 37,
     "metadata": {},
     "output_type": "execute_result"
    }
   ],
   "source": [
    "df3.drop('col0',axis=1) #deleting column from data frame"
   ]
  },
  {
   "cell_type": "code",
   "execution_count": 38,
   "id": "07210692",
   "metadata": {},
   "outputs": [
    {
     "name": "stdout",
     "output_type": "stream",
     "text": [
      "          col0      col1      col2      col3      col4      col5\n",
      "row0  0.042410 -0.713718 -1.116744  0.849665 -0.032730 -0.303801\n",
      "row1  0.240375  0.366118  2.336399 -0.107381 -1.028551  0.730418\n",
      "row2  0.024681 -2.487480  0.788173  0.728980  0.035637  0.391909\n",
      "row3  1.139447 -0.276028  0.308844 -0.475283  0.150669  0.301340\n",
      "row4  0.207571 -0.707920  0.370586  0.285517  2.266225 -0.080021\n"
     ]
    }
   ],
   "source": [
    "print(df3) #col0 is present in original data frame"
   ]
  },
  {
   "cell_type": "code",
   "execution_count": 39,
   "id": "f97e664a",
   "metadata": {},
   "outputs": [],
   "source": [
    "df3.drop('col0',axis=1,inplace=True) #removing column from original df"
   ]
  },
  {
   "cell_type": "code",
   "execution_count": 40,
   "id": "50df4570",
   "metadata": {},
   "outputs": [
    {
     "name": "stdout",
     "output_type": "stream",
     "text": [
      "          col1      col2      col3      col4      col5\n",
      "row0 -0.713718 -1.116744  0.849665 -0.032730 -0.303801\n",
      "row1  0.366118  2.336399 -0.107381 -1.028551  0.730418\n",
      "row2 -2.487480  0.788173  0.728980  0.035637  0.391909\n",
      "row3 -0.276028  0.308844 -0.475283  0.150669  0.301340\n",
      "row4 -0.707920  0.370586  0.285517  2.266225 -0.080021\n"
     ]
    }
   ],
   "source": [
    "print(df3) #will reflect the change in original data frame (df)"
   ]
  },
  {
   "cell_type": "code",
   "execution_count": 41,
   "id": "92a5fca9",
   "metadata": {},
   "outputs": [],
   "source": [
    "df3.drop('row3',axis=0,inplace=True)"
   ]
  },
  {
   "cell_type": "code",
   "execution_count": 42,
   "id": "4def3057",
   "metadata": {},
   "outputs": [
    {
     "name": "stdout",
     "output_type": "stream",
     "text": [
      "          col1      col2      col3      col4      col5\n",
      "row0 -0.713718 -1.116744  0.849665 -0.032730 -0.303801\n",
      "row1  0.366118  2.336399 -0.107381 -1.028551  0.730418\n",
      "row2 -2.487480  0.788173  0.728980  0.035637  0.391909\n",
      "row4 -0.707920  0.370586  0.285517  2.266225 -0.080021\n"
     ]
    }
   ],
   "source": [
    "print(df3)"
   ]
  },
  {
   "cell_type": "code",
   "execution_count": 43,
   "id": "8fd5f526",
   "metadata": {},
   "outputs": [],
   "source": [
    "df3.reset_index(inplace=True) #removes or corrects index labels"
   ]
  },
  {
   "cell_type": "code",
   "execution_count": 44,
   "id": "61aed991",
   "metadata": {},
   "outputs": [
    {
     "name": "stdout",
     "output_type": "stream",
     "text": [
      "  index      col1      col2      col3      col4      col5\n",
      "0  row0 -0.713718 -1.116744  0.849665 -0.032730 -0.303801\n",
      "1  row1  0.366118  2.336399 -0.107381 -1.028551  0.730418\n",
      "2  row2 -2.487480  0.788173  0.728980  0.035637  0.391909\n",
      "3  row4 -0.707920  0.370586  0.285517  2.266225 -0.080021\n"
     ]
    }
   ],
   "source": [
    "print(df3) #corrects index labels"
   ]
  },
  {
   "cell_type": "code",
   "execution_count": 45,
   "id": "c8a27348",
   "metadata": {},
   "outputs": [],
   "source": [
    "df3['new']=['one','two','three','four']"
   ]
  },
  {
   "cell_type": "code",
   "execution_count": 46,
   "id": "2deab6e1",
   "metadata": {},
   "outputs": [],
   "source": [
    "df3.set_index('new',inplace=True) #assigning new index labels"
   ]
  },
  {
   "cell_type": "code",
   "execution_count": 47,
   "id": "525f0f07",
   "metadata": {},
   "outputs": [
    {
     "name": "stdout",
     "output_type": "stream",
     "text": [
      "      index      col1      col2      col3      col4      col5\n",
      "new                                                          \n",
      "one    row0 -0.713718 -1.116744  0.849665 -0.032730 -0.303801\n",
      "two    row1  0.366118  2.336399 -0.107381 -1.028551  0.730418\n",
      "three  row2 -2.487480  0.788173  0.728980  0.035637  0.391909\n",
      "four   row4 -0.707920  0.370586  0.285517  2.266225 -0.080021\n"
     ]
    }
   ],
   "source": [
    "print(df3)"
   ]
  },
  {
   "cell_type": "code",
   "execution_count": 48,
   "id": "8d310490",
   "metadata": {},
   "outputs": [],
   "source": [
    "#combine data frames\n",
    "#Concat\n",
    "#join\n",
    "#merge"
   ]
  },
  {
   "cell_type": "code",
   "execution_count": 52,
   "id": "1a8ca3a5",
   "metadata": {},
   "outputs": [],
   "source": [
    "df4=pd.DataFrame({'customer':['a','b','c','d'],'sales':\n",
    "                 [123,52,34,105],'category':['cat1','cat1','cat2',\n",
    "                                            'cat2'],'important':\n",
    "                  ['yes','no','no','yes']},index=[1,2,3,4])"
   ]
  },
  {
   "cell_type": "code",
   "execution_count": 53,
   "id": "89dc0ed2",
   "metadata": {},
   "outputs": [
    {
     "name": "stdout",
     "output_type": "stream",
     "text": [
      "  customer  sales category important\n",
      "1        a    123     cat1       yes\n",
      "2        b     52     cat1        no\n",
      "3        c     34     cat2        no\n",
      "4        d    105     cat2       yes\n"
     ]
    }
   ],
   "source": [
    "print(df4)"
   ]
  },
  {
   "cell_type": "code",
   "execution_count": 54,
   "id": "017253e8",
   "metadata": {},
   "outputs": [],
   "source": [
    "df5=pd.DataFrame({'customer':['e','f','g','h'],'color':[\n",
    "    'yellow','red','yellow','blue'],'sales':[10,20,30,40],\n",
    "                 'distance':[200,123,45,5]},index=[5,6,7,8])"
   ]
  },
  {
   "cell_type": "code",
   "execution_count": 55,
   "id": "0d3dd871",
   "metadata": {},
   "outputs": [
    {
     "name": "stdout",
     "output_type": "stream",
     "text": [
      "  customer   color  sales  distance\n",
      "5        e  yellow     10       200\n",
      "6        f     red     20       123\n",
      "7        g  yellow     30        45\n",
      "8        h    blue     40         5\n"
     ]
    }
   ],
   "source": [
    "print(df5)"
   ]
  },
  {
   "cell_type": "code",
   "execution_count": 56,
   "id": "71e04779",
   "metadata": {},
   "outputs": [
    {
     "data": {
      "text/html": [
       "<div>\n",
       "<style scoped>\n",
       "    .dataframe tbody tr th:only-of-type {\n",
       "        vertical-align: middle;\n",
       "    }\n",
       "\n",
       "    .dataframe tbody tr th {\n",
       "        vertical-align: top;\n",
       "    }\n",
       "\n",
       "    .dataframe thead th {\n",
       "        text-align: right;\n",
       "    }\n",
       "</style>\n",
       "<table border=\"1\" class=\"dataframe\">\n",
       "  <thead>\n",
       "    <tr style=\"text-align: right;\">\n",
       "      <th></th>\n",
       "      <th>customer</th>\n",
       "      <th>sales</th>\n",
       "      <th>category</th>\n",
       "      <th>important</th>\n",
       "      <th>color</th>\n",
       "      <th>distance</th>\n",
       "    </tr>\n",
       "  </thead>\n",
       "  <tbody>\n",
       "    <tr>\n",
       "      <th>1</th>\n",
       "      <td>a</td>\n",
       "      <td>123</td>\n",
       "      <td>cat1</td>\n",
       "      <td>yes</td>\n",
       "      <td>NaN</td>\n",
       "      <td>NaN</td>\n",
       "    </tr>\n",
       "    <tr>\n",
       "      <th>2</th>\n",
       "      <td>b</td>\n",
       "      <td>52</td>\n",
       "      <td>cat1</td>\n",
       "      <td>no</td>\n",
       "      <td>NaN</td>\n",
       "      <td>NaN</td>\n",
       "    </tr>\n",
       "    <tr>\n",
       "      <th>3</th>\n",
       "      <td>c</td>\n",
       "      <td>34</td>\n",
       "      <td>cat2</td>\n",
       "      <td>no</td>\n",
       "      <td>NaN</td>\n",
       "      <td>NaN</td>\n",
       "    </tr>\n",
       "    <tr>\n",
       "      <th>4</th>\n",
       "      <td>d</td>\n",
       "      <td>105</td>\n",
       "      <td>cat2</td>\n",
       "      <td>yes</td>\n",
       "      <td>NaN</td>\n",
       "      <td>NaN</td>\n",
       "    </tr>\n",
       "    <tr>\n",
       "      <th>5</th>\n",
       "      <td>e</td>\n",
       "      <td>10</td>\n",
       "      <td>NaN</td>\n",
       "      <td>NaN</td>\n",
       "      <td>yellow</td>\n",
       "      <td>200.0</td>\n",
       "    </tr>\n",
       "    <tr>\n",
       "      <th>6</th>\n",
       "      <td>f</td>\n",
       "      <td>20</td>\n",
       "      <td>NaN</td>\n",
       "      <td>NaN</td>\n",
       "      <td>red</td>\n",
       "      <td>123.0</td>\n",
       "    </tr>\n",
       "    <tr>\n",
       "      <th>7</th>\n",
       "      <td>g</td>\n",
       "      <td>30</td>\n",
       "      <td>NaN</td>\n",
       "      <td>NaN</td>\n",
       "      <td>yellow</td>\n",
       "      <td>45.0</td>\n",
       "    </tr>\n",
       "    <tr>\n",
       "      <th>8</th>\n",
       "      <td>h</td>\n",
       "      <td>40</td>\n",
       "      <td>NaN</td>\n",
       "      <td>NaN</td>\n",
       "      <td>blue</td>\n",
       "      <td>5.0</td>\n",
       "    </tr>\n",
       "  </tbody>\n",
       "</table>\n",
       "</div>"
      ],
      "text/plain": [
       "  customer  sales category important   color  distance\n",
       "1        a    123     cat1       yes     NaN       NaN\n",
       "2        b     52     cat1        no     NaN       NaN\n",
       "3        c     34     cat2        no     NaN       NaN\n",
       "4        d    105     cat2       yes     NaN       NaN\n",
       "5        e     10      NaN       NaN  yellow     200.0\n",
       "6        f     20      NaN       NaN     red     123.0\n",
       "7        g     30      NaN       NaN  yellow      45.0\n",
       "8        h     40      NaN       NaN    blue       5.0"
      ]
     },
     "execution_count": 56,
     "metadata": {},
     "output_type": "execute_result"
    }
   ],
   "source": [
    "pd.concat([df4,df5],axis=0)"
   ]
  },
  {
   "cell_type": "code",
   "execution_count": 57,
   "id": "4c05b051",
   "metadata": {},
   "outputs": [
    {
     "data": {
      "text/html": [
       "<div>\n",
       "<style scoped>\n",
       "    .dataframe tbody tr th:only-of-type {\n",
       "        vertical-align: middle;\n",
       "    }\n",
       "\n",
       "    .dataframe tbody tr th {\n",
       "        vertical-align: top;\n",
       "    }\n",
       "\n",
       "    .dataframe thead th {\n",
       "        text-align: right;\n",
       "    }\n",
       "</style>\n",
       "<table border=\"1\" class=\"dataframe\">\n",
       "  <thead>\n",
       "    <tr style=\"text-align: right;\">\n",
       "      <th></th>\n",
       "      <th>customer</th>\n",
       "      <th>sales</th>\n",
       "      <th>category</th>\n",
       "      <th>important</th>\n",
       "      <th>customer</th>\n",
       "      <th>color</th>\n",
       "      <th>sales</th>\n",
       "      <th>distance</th>\n",
       "    </tr>\n",
       "  </thead>\n",
       "  <tbody>\n",
       "    <tr>\n",
       "      <th>1</th>\n",
       "      <td>a</td>\n",
       "      <td>123.0</td>\n",
       "      <td>cat1</td>\n",
       "      <td>yes</td>\n",
       "      <td>NaN</td>\n",
       "      <td>NaN</td>\n",
       "      <td>NaN</td>\n",
       "      <td>NaN</td>\n",
       "    </tr>\n",
       "    <tr>\n",
       "      <th>2</th>\n",
       "      <td>b</td>\n",
       "      <td>52.0</td>\n",
       "      <td>cat1</td>\n",
       "      <td>no</td>\n",
       "      <td>NaN</td>\n",
       "      <td>NaN</td>\n",
       "      <td>NaN</td>\n",
       "      <td>NaN</td>\n",
       "    </tr>\n",
       "    <tr>\n",
       "      <th>3</th>\n",
       "      <td>c</td>\n",
       "      <td>34.0</td>\n",
       "      <td>cat2</td>\n",
       "      <td>no</td>\n",
       "      <td>NaN</td>\n",
       "      <td>NaN</td>\n",
       "      <td>NaN</td>\n",
       "      <td>NaN</td>\n",
       "    </tr>\n",
       "    <tr>\n",
       "      <th>4</th>\n",
       "      <td>d</td>\n",
       "      <td>105.0</td>\n",
       "      <td>cat2</td>\n",
       "      <td>yes</td>\n",
       "      <td>NaN</td>\n",
       "      <td>NaN</td>\n",
       "      <td>NaN</td>\n",
       "      <td>NaN</td>\n",
       "    </tr>\n",
       "    <tr>\n",
       "      <th>5</th>\n",
       "      <td>NaN</td>\n",
       "      <td>NaN</td>\n",
       "      <td>NaN</td>\n",
       "      <td>NaN</td>\n",
       "      <td>e</td>\n",
       "      <td>yellow</td>\n",
       "      <td>10.0</td>\n",
       "      <td>200.0</td>\n",
       "    </tr>\n",
       "    <tr>\n",
       "      <th>6</th>\n",
       "      <td>NaN</td>\n",
       "      <td>NaN</td>\n",
       "      <td>NaN</td>\n",
       "      <td>NaN</td>\n",
       "      <td>f</td>\n",
       "      <td>red</td>\n",
       "      <td>20.0</td>\n",
       "      <td>123.0</td>\n",
       "    </tr>\n",
       "    <tr>\n",
       "      <th>7</th>\n",
       "      <td>NaN</td>\n",
       "      <td>NaN</td>\n",
       "      <td>NaN</td>\n",
       "      <td>NaN</td>\n",
       "      <td>g</td>\n",
       "      <td>yellow</td>\n",
       "      <td>30.0</td>\n",
       "      <td>45.0</td>\n",
       "    </tr>\n",
       "    <tr>\n",
       "      <th>8</th>\n",
       "      <td>NaN</td>\n",
       "      <td>NaN</td>\n",
       "      <td>NaN</td>\n",
       "      <td>NaN</td>\n",
       "      <td>h</td>\n",
       "      <td>blue</td>\n",
       "      <td>40.0</td>\n",
       "      <td>5.0</td>\n",
       "    </tr>\n",
       "  </tbody>\n",
       "</table>\n",
       "</div>"
      ],
      "text/plain": [
       "  customer  sales category important customer   color  sales  distance\n",
       "1        a  123.0     cat1       yes      NaN     NaN    NaN       NaN\n",
       "2        b   52.0     cat1        no      NaN     NaN    NaN       NaN\n",
       "3        c   34.0     cat2        no      NaN     NaN    NaN       NaN\n",
       "4        d  105.0     cat2       yes      NaN     NaN    NaN       NaN\n",
       "5      NaN    NaN      NaN       NaN        e  yellow   10.0     200.0\n",
       "6      NaN    NaN      NaN       NaN        f     red   20.0     123.0\n",
       "7      NaN    NaN      NaN       NaN        g  yellow   30.0      45.0\n",
       "8      NaN    NaN      NaN       NaN        h    blue   40.0       5.0"
      ]
     },
     "execution_count": 57,
     "metadata": {},
     "output_type": "execute_result"
    }
   ],
   "source": [
    "pd.concat([df4,df5],axis=1)"
   ]
  },
  {
   "cell_type": "code",
   "execution_count": 58,
   "id": "67a6fcba",
   "metadata": {},
   "outputs": [],
   "source": [
    "#merge-----combining the data frame using column values to identify common data entries\n",
    "#join------combines data frame using index (row)\n"
   ]
  },
  {
   "cell_type": "code",
   "execution_count": 59,
   "id": "2cfd7c24",
   "metadata": {},
   "outputs": [],
   "source": [
    "#merge"
   ]
  },
  {
   "cell_type": "code",
   "execution_count": 61,
   "id": "d5a9f399",
   "metadata": {},
   "outputs": [
    {
     "data": {
      "text/html": [
       "<div>\n",
       "<style scoped>\n",
       "    .dataframe tbody tr th:only-of-type {\n",
       "        vertical-align: middle;\n",
       "    }\n",
       "\n",
       "    .dataframe tbody tr th {\n",
       "        vertical-align: top;\n",
       "    }\n",
       "\n",
       "    .dataframe thead th {\n",
       "        text-align: right;\n",
       "    }\n",
       "</style>\n",
       "<table border=\"1\" class=\"dataframe\">\n",
       "  <thead>\n",
       "    <tr style=\"text-align: right;\">\n",
       "      <th></th>\n",
       "      <th>customer</th>\n",
       "      <th>sales_x</th>\n",
       "      <th>category</th>\n",
       "      <th>important</th>\n",
       "      <th>color</th>\n",
       "      <th>sales_y</th>\n",
       "      <th>distance</th>\n",
       "    </tr>\n",
       "  </thead>\n",
       "  <tbody>\n",
       "  </tbody>\n",
       "</table>\n",
       "</div>"
      ],
      "text/plain": [
       "Empty DataFrame\n",
       "Columns: [customer, sales_x, category, important, color, sales_y, distance]\n",
       "Index: []"
      ]
     },
     "execution_count": 61,
     "metadata": {},
     "output_type": "execute_result"
    }
   ],
   "source": [
    "pd.merge(df4,df5,how='inner',on='customer')"
   ]
  },
  {
   "cell_type": "code",
   "execution_count": 62,
   "id": "57ee9986",
   "metadata": {},
   "outputs": [
    {
     "data": {
      "text/html": [
       "<div>\n",
       "<style scoped>\n",
       "    .dataframe tbody tr th:only-of-type {\n",
       "        vertical-align: middle;\n",
       "    }\n",
       "\n",
       "    .dataframe tbody tr th {\n",
       "        vertical-align: top;\n",
       "    }\n",
       "\n",
       "    .dataframe thead th {\n",
       "        text-align: right;\n",
       "    }\n",
       "</style>\n",
       "<table border=\"1\" class=\"dataframe\">\n",
       "  <thead>\n",
       "    <tr style=\"text-align: right;\">\n",
       "      <th></th>\n",
       "      <th>customer</th>\n",
       "      <th>sales_x</th>\n",
       "      <th>category</th>\n",
       "      <th>important</th>\n",
       "      <th>color</th>\n",
       "      <th>sales_y</th>\n",
       "      <th>distance</th>\n",
       "    </tr>\n",
       "  </thead>\n",
       "  <tbody>\n",
       "    <tr>\n",
       "      <th>0</th>\n",
       "      <td>a</td>\n",
       "      <td>123.0</td>\n",
       "      <td>cat1</td>\n",
       "      <td>yes</td>\n",
       "      <td>NaN</td>\n",
       "      <td>NaN</td>\n",
       "      <td>NaN</td>\n",
       "    </tr>\n",
       "    <tr>\n",
       "      <th>1</th>\n",
       "      <td>b</td>\n",
       "      <td>52.0</td>\n",
       "      <td>cat1</td>\n",
       "      <td>no</td>\n",
       "      <td>NaN</td>\n",
       "      <td>NaN</td>\n",
       "      <td>NaN</td>\n",
       "    </tr>\n",
       "    <tr>\n",
       "      <th>2</th>\n",
       "      <td>c</td>\n",
       "      <td>34.0</td>\n",
       "      <td>cat2</td>\n",
       "      <td>no</td>\n",
       "      <td>NaN</td>\n",
       "      <td>NaN</td>\n",
       "      <td>NaN</td>\n",
       "    </tr>\n",
       "    <tr>\n",
       "      <th>3</th>\n",
       "      <td>d</td>\n",
       "      <td>105.0</td>\n",
       "      <td>cat2</td>\n",
       "      <td>yes</td>\n",
       "      <td>NaN</td>\n",
       "      <td>NaN</td>\n",
       "      <td>NaN</td>\n",
       "    </tr>\n",
       "    <tr>\n",
       "      <th>4</th>\n",
       "      <td>e</td>\n",
       "      <td>NaN</td>\n",
       "      <td>NaN</td>\n",
       "      <td>NaN</td>\n",
       "      <td>yellow</td>\n",
       "      <td>10.0</td>\n",
       "      <td>200.0</td>\n",
       "    </tr>\n",
       "    <tr>\n",
       "      <th>5</th>\n",
       "      <td>f</td>\n",
       "      <td>NaN</td>\n",
       "      <td>NaN</td>\n",
       "      <td>NaN</td>\n",
       "      <td>red</td>\n",
       "      <td>20.0</td>\n",
       "      <td>123.0</td>\n",
       "    </tr>\n",
       "    <tr>\n",
       "      <th>6</th>\n",
       "      <td>g</td>\n",
       "      <td>NaN</td>\n",
       "      <td>NaN</td>\n",
       "      <td>NaN</td>\n",
       "      <td>yellow</td>\n",
       "      <td>30.0</td>\n",
       "      <td>45.0</td>\n",
       "    </tr>\n",
       "    <tr>\n",
       "      <th>7</th>\n",
       "      <td>h</td>\n",
       "      <td>NaN</td>\n",
       "      <td>NaN</td>\n",
       "      <td>NaN</td>\n",
       "      <td>blue</td>\n",
       "      <td>40.0</td>\n",
       "      <td>5.0</td>\n",
       "    </tr>\n",
       "  </tbody>\n",
       "</table>\n",
       "</div>"
      ],
      "text/plain": [
       "  customer  sales_x category important   color  sales_y  distance\n",
       "0        a    123.0     cat1       yes     NaN      NaN       NaN\n",
       "1        b     52.0     cat1        no     NaN      NaN       NaN\n",
       "2        c     34.0     cat2        no     NaN      NaN       NaN\n",
       "3        d    105.0     cat2       yes     NaN      NaN       NaN\n",
       "4        e      NaN      NaN       NaN  yellow     10.0     200.0\n",
       "5        f      NaN      NaN       NaN     red     20.0     123.0\n",
       "6        g      NaN      NaN       NaN  yellow     30.0      45.0\n",
       "7        h      NaN      NaN       NaN    blue     40.0       5.0"
      ]
     },
     "execution_count": 62,
     "metadata": {},
     "output_type": "execute_result"
    }
   ],
   "source": [
    "pd.merge(df4,df5,how='outer',on='customer')"
   ]
  },
  {
   "cell_type": "code",
   "execution_count": 63,
   "id": "47660bb8",
   "metadata": {},
   "outputs": [
    {
     "data": {
      "text/html": [
       "<div>\n",
       "<style scoped>\n",
       "    .dataframe tbody tr th:only-of-type {\n",
       "        vertical-align: middle;\n",
       "    }\n",
       "\n",
       "    .dataframe tbody tr th {\n",
       "        vertical-align: top;\n",
       "    }\n",
       "\n",
       "    .dataframe thead th {\n",
       "        text-align: right;\n",
       "    }\n",
       "</style>\n",
       "<table border=\"1\" class=\"dataframe\">\n",
       "  <thead>\n",
       "    <tr style=\"text-align: right;\">\n",
       "      <th></th>\n",
       "      <th>customer</th>\n",
       "      <th>sales_x</th>\n",
       "      <th>category</th>\n",
       "      <th>important</th>\n",
       "      <th>color</th>\n",
       "      <th>sales_y</th>\n",
       "      <th>distance</th>\n",
       "    </tr>\n",
       "  </thead>\n",
       "  <tbody>\n",
       "    <tr>\n",
       "      <th>0</th>\n",
       "      <td>e</td>\n",
       "      <td>NaN</td>\n",
       "      <td>NaN</td>\n",
       "      <td>NaN</td>\n",
       "      <td>yellow</td>\n",
       "      <td>10</td>\n",
       "      <td>200</td>\n",
       "    </tr>\n",
       "    <tr>\n",
       "      <th>1</th>\n",
       "      <td>f</td>\n",
       "      <td>NaN</td>\n",
       "      <td>NaN</td>\n",
       "      <td>NaN</td>\n",
       "      <td>red</td>\n",
       "      <td>20</td>\n",
       "      <td>123</td>\n",
       "    </tr>\n",
       "    <tr>\n",
       "      <th>2</th>\n",
       "      <td>g</td>\n",
       "      <td>NaN</td>\n",
       "      <td>NaN</td>\n",
       "      <td>NaN</td>\n",
       "      <td>yellow</td>\n",
       "      <td>30</td>\n",
       "      <td>45</td>\n",
       "    </tr>\n",
       "    <tr>\n",
       "      <th>3</th>\n",
       "      <td>h</td>\n",
       "      <td>NaN</td>\n",
       "      <td>NaN</td>\n",
       "      <td>NaN</td>\n",
       "      <td>blue</td>\n",
       "      <td>40</td>\n",
       "      <td>5</td>\n",
       "    </tr>\n",
       "  </tbody>\n",
       "</table>\n",
       "</div>"
      ],
      "text/plain": [
       "  customer  sales_x category important   color  sales_y  distance\n",
       "0        e      NaN      NaN       NaN  yellow       10       200\n",
       "1        f      NaN      NaN       NaN     red       20       123\n",
       "2        g      NaN      NaN       NaN  yellow       30        45\n",
       "3        h      NaN      NaN       NaN    blue       40         5"
      ]
     },
     "execution_count": 63,
     "metadata": {},
     "output_type": "execute_result"
    }
   ],
   "source": [
    "pd.merge(df4,df5,how='right',on='customer')"
   ]
  },
  {
   "cell_type": "code",
   "execution_count": 64,
   "id": "506853cf",
   "metadata": {},
   "outputs": [
    {
     "data": {
      "text/html": [
       "<div>\n",
       "<style scoped>\n",
       "    .dataframe tbody tr th:only-of-type {\n",
       "        vertical-align: middle;\n",
       "    }\n",
       "\n",
       "    .dataframe tbody tr th {\n",
       "        vertical-align: top;\n",
       "    }\n",
       "\n",
       "    .dataframe thead th {\n",
       "        text-align: right;\n",
       "    }\n",
       "</style>\n",
       "<table border=\"1\" class=\"dataframe\">\n",
       "  <thead>\n",
       "    <tr style=\"text-align: right;\">\n",
       "      <th></th>\n",
       "      <th>customer</th>\n",
       "      <th>sales_x</th>\n",
       "      <th>category</th>\n",
       "      <th>important</th>\n",
       "      <th>color</th>\n",
       "      <th>sales_y</th>\n",
       "      <th>distance</th>\n",
       "    </tr>\n",
       "  </thead>\n",
       "  <tbody>\n",
       "    <tr>\n",
       "      <th>0</th>\n",
       "      <td>a</td>\n",
       "      <td>123</td>\n",
       "      <td>cat1</td>\n",
       "      <td>yes</td>\n",
       "      <td>NaN</td>\n",
       "      <td>NaN</td>\n",
       "      <td>NaN</td>\n",
       "    </tr>\n",
       "    <tr>\n",
       "      <th>1</th>\n",
       "      <td>b</td>\n",
       "      <td>52</td>\n",
       "      <td>cat1</td>\n",
       "      <td>no</td>\n",
       "      <td>NaN</td>\n",
       "      <td>NaN</td>\n",
       "      <td>NaN</td>\n",
       "    </tr>\n",
       "    <tr>\n",
       "      <th>2</th>\n",
       "      <td>c</td>\n",
       "      <td>34</td>\n",
       "      <td>cat2</td>\n",
       "      <td>no</td>\n",
       "      <td>NaN</td>\n",
       "      <td>NaN</td>\n",
       "      <td>NaN</td>\n",
       "    </tr>\n",
       "    <tr>\n",
       "      <th>3</th>\n",
       "      <td>d</td>\n",
       "      <td>105</td>\n",
       "      <td>cat2</td>\n",
       "      <td>yes</td>\n",
       "      <td>NaN</td>\n",
       "      <td>NaN</td>\n",
       "      <td>NaN</td>\n",
       "    </tr>\n",
       "  </tbody>\n",
       "</table>\n",
       "</div>"
      ],
      "text/plain": [
       "  customer  sales_x category important color  sales_y  distance\n",
       "0        a      123     cat1       yes   NaN      NaN       NaN\n",
       "1        b       52     cat1        no   NaN      NaN       NaN\n",
       "2        c       34     cat2        no   NaN      NaN       NaN\n",
       "3        d      105     cat2       yes   NaN      NaN       NaN"
      ]
     },
     "execution_count": 64,
     "metadata": {},
     "output_type": "execute_result"
    }
   ],
   "source": [
    "pd.merge(df4,df5,how='left',on='customer')"
   ]
  },
  {
   "cell_type": "code",
   "execution_count": 65,
   "id": "4b322934",
   "metadata": {},
   "outputs": [],
   "source": [
    "#join"
   ]
  },
  {
   "cell_type": "code",
   "execution_count": 66,
   "id": "b80d4c33",
   "metadata": {},
   "outputs": [],
   "source": [
    "df6=pd.DataFrame({'Q1':[1,2,3],'Q2':[4,5,6]},index=['a','b','c'])"
   ]
  },
  {
   "cell_type": "code",
   "execution_count": 68,
   "id": "09c313ec",
   "metadata": {},
   "outputs": [],
   "source": [
    "df7=pd.DataFrame({'Q3':[7,8,9],'Q4':[4,6,8]},index=['a','b','c'])"
   ]
  },
  {
   "cell_type": "code",
   "execution_count": 69,
   "id": "a18a7c46",
   "metadata": {},
   "outputs": [
    {
     "data": {
      "text/html": [
       "<div>\n",
       "<style scoped>\n",
       "    .dataframe tbody tr th:only-of-type {\n",
       "        vertical-align: middle;\n",
       "    }\n",
       "\n",
       "    .dataframe tbody tr th {\n",
       "        vertical-align: top;\n",
       "    }\n",
       "\n",
       "    .dataframe thead th {\n",
       "        text-align: right;\n",
       "    }\n",
       "</style>\n",
       "<table border=\"1\" class=\"dataframe\">\n",
       "  <thead>\n",
       "    <tr style=\"text-align: right;\">\n",
       "      <th></th>\n",
       "      <th>Q1</th>\n",
       "      <th>Q2</th>\n",
       "      <th>Q3</th>\n",
       "      <th>Q4</th>\n",
       "    </tr>\n",
       "  </thead>\n",
       "  <tbody>\n",
       "    <tr>\n",
       "      <th>a</th>\n",
       "      <td>1</td>\n",
       "      <td>4</td>\n",
       "      <td>7</td>\n",
       "      <td>4</td>\n",
       "    </tr>\n",
       "    <tr>\n",
       "      <th>b</th>\n",
       "      <td>2</td>\n",
       "      <td>5</td>\n",
       "      <td>8</td>\n",
       "      <td>6</td>\n",
       "    </tr>\n",
       "    <tr>\n",
       "      <th>c</th>\n",
       "      <td>3</td>\n",
       "      <td>6</td>\n",
       "      <td>9</td>\n",
       "      <td>8</td>\n",
       "    </tr>\n",
       "  </tbody>\n",
       "</table>\n",
       "</div>"
      ],
      "text/plain": [
       "   Q1  Q2  Q3  Q4\n",
       "a   1   4   7   4\n",
       "b   2   5   8   6\n",
       "c   3   6   9   8"
      ]
     },
     "execution_count": 69,
     "metadata": {},
     "output_type": "execute_result"
    }
   ],
   "source": [
    "df6.join(df7,how='inner')"
   ]
  },
  {
   "cell_type": "code",
   "execution_count": 70,
   "id": "dc4e3958",
   "metadata": {},
   "outputs": [
    {
     "data": {
      "text/html": [
       "<div>\n",
       "<style scoped>\n",
       "    .dataframe tbody tr th:only-of-type {\n",
       "        vertical-align: middle;\n",
       "    }\n",
       "\n",
       "    .dataframe tbody tr th {\n",
       "        vertical-align: top;\n",
       "    }\n",
       "\n",
       "    .dataframe thead th {\n",
       "        text-align: right;\n",
       "    }\n",
       "</style>\n",
       "<table border=\"1\" class=\"dataframe\">\n",
       "  <thead>\n",
       "    <tr style=\"text-align: right;\">\n",
       "      <th></th>\n",
       "      <th>Q1</th>\n",
       "      <th>Q2</th>\n",
       "      <th>Q3</th>\n",
       "      <th>Q4</th>\n",
       "    </tr>\n",
       "  </thead>\n",
       "  <tbody>\n",
       "    <tr>\n",
       "      <th>a</th>\n",
       "      <td>1</td>\n",
       "      <td>4</td>\n",
       "      <td>7</td>\n",
       "      <td>4</td>\n",
       "    </tr>\n",
       "    <tr>\n",
       "      <th>b</th>\n",
       "      <td>2</td>\n",
       "      <td>5</td>\n",
       "      <td>8</td>\n",
       "      <td>6</td>\n",
       "    </tr>\n",
       "    <tr>\n",
       "      <th>c</th>\n",
       "      <td>3</td>\n",
       "      <td>6</td>\n",
       "      <td>9</td>\n",
       "      <td>8</td>\n",
       "    </tr>\n",
       "  </tbody>\n",
       "</table>\n",
       "</div>"
      ],
      "text/plain": [
       "   Q1  Q2  Q3  Q4\n",
       "a   1   4   7   4\n",
       "b   2   5   8   6\n",
       "c   3   6   9   8"
      ]
     },
     "execution_count": 70,
     "metadata": {},
     "output_type": "execute_result"
    }
   ],
   "source": [
    "df6.join(df7,how='right')"
   ]
  },
  {
   "cell_type": "code",
   "execution_count": 71,
   "id": "9556704e",
   "metadata": {},
   "outputs": [
    {
     "name": "stdout",
     "output_type": "stream",
     "text": [
      "  customer   color  sales  distance\n",
      "5        e  yellow     10       200\n",
      "6        f     red     20       123\n",
      "7        g  yellow     30        45\n",
      "8        h    blue     40         5\n"
     ]
    }
   ],
   "source": [
    "print(df5)"
   ]
  },
  {
   "cell_type": "code",
   "execution_count": 73,
   "id": "490d4ad4",
   "metadata": {},
   "outputs": [
    {
     "data": {
      "text/plain": [
       "array(['yellow', 'red', 'blue'], dtype=object)"
      ]
     },
     "execution_count": 73,
     "metadata": {},
     "output_type": "execute_result"
    }
   ],
   "source": [
    "df5['color'].unique()"
   ]
  },
  {
   "cell_type": "code",
   "execution_count": 74,
   "id": "e516632a",
   "metadata": {},
   "outputs": [
    {
     "data": {
      "text/plain": [
       "yellow    2\n",
       "red       1\n",
       "blue      1\n",
       "Name: color, dtype: int64"
      ]
     },
     "execution_count": 74,
     "metadata": {},
     "output_type": "execute_result"
    }
   ],
   "source": [
    "df5['color'].value_counts()"
   ]
  },
  {
   "cell_type": "code",
   "execution_count": 75,
   "id": "48fd6a90",
   "metadata": {},
   "outputs": [
    {
     "data": {
      "text/plain": [
       "93.25"
      ]
     },
     "execution_count": 75,
     "metadata": {},
     "output_type": "execute_result"
    }
   ],
   "source": [
    "df5['distance'].mean()"
   ]
  },
  {
   "cell_type": "code",
   "execution_count": 76,
   "id": "d370a6ea",
   "metadata": {},
   "outputs": [
    {
     "data": {
      "text/plain": [
       "373"
      ]
     },
     "execution_count": 76,
     "metadata": {},
     "output_type": "execute_result"
    }
   ],
   "source": [
    "df5['distance'].sum()"
   ]
  },
  {
   "cell_type": "code",
   "execution_count": 77,
   "id": "6407e560",
   "metadata": {},
   "outputs": [
    {
     "data": {
      "text/plain": [
       "200"
      ]
     },
     "execution_count": 77,
     "metadata": {},
     "output_type": "execute_result"
    }
   ],
   "source": [
    "df5['distance'].max()"
   ]
  },
  {
   "cell_type": "code",
   "execution_count": 79,
   "id": "57fde4c9",
   "metadata": {},
   "outputs": [
    {
     "data": {
      "text/plain": [
       "5"
      ]
     },
     "execution_count": 79,
     "metadata": {},
     "output_type": "execute_result"
    }
   ],
   "source": [
    "df5['distance'].min()"
   ]
  },
  {
   "cell_type": "code",
   "execution_count": 80,
   "id": "b46940ca",
   "metadata": {},
   "outputs": [],
   "source": [
    "def f(x):\n",
    "    return x**2"
   ]
  },
  {
   "cell_type": "code",
   "execution_count": 81,
   "id": "3e25a452",
   "metadata": {},
   "outputs": [
    {
     "data": {
      "text/plain": [
       "5    40000\n",
       "6    15129\n",
       "7     2025\n",
       "8       25\n",
       "Name: distance, dtype: int64"
      ]
     },
     "execution_count": 81,
     "metadata": {},
     "output_type": "execute_result"
    }
   ],
   "source": [
    "df5['distance'].apply(f)"
   ]
  },
  {
   "cell_type": "code",
   "execution_count": 85,
   "id": "0a58dbab",
   "metadata": {},
   "outputs": [],
   "source": [
    "df8=pd.DataFrame({'A':['a1','a1','a2','a2','a3','a3'],'B':\n",
    "                 [1,2,3,4,5,6],'C':[10,20,30,40,50,60]},index=['I1'\n",
    "                                                              ,'I2'\n",
    "                                                              ,'I3'\n",
    "                                                              ,'I4'\n",
    "                                                              ,'I5'\n",
    "                                                              ,'I6'])"
   ]
  },
  {
   "cell_type": "code",
   "execution_count": 86,
   "id": "ffa5d07e",
   "metadata": {},
   "outputs": [
    {
     "name": "stdout",
     "output_type": "stream",
     "text": [
      "     A  B   C\n",
      "I1  a1  1  10\n",
      "I2  a1  2  20\n",
      "I3  a2  3  30\n",
      "I4  a2  4  40\n",
      "I5  a3  5  50\n",
      "I6  a3  6  60\n"
     ]
    }
   ],
   "source": [
    "print(df8)"
   ]
  },
  {
   "cell_type": "code",
   "execution_count": 87,
   "id": "f70d8e7c",
   "metadata": {},
   "outputs": [],
   "source": [
    "group_data=df8.groupby('A')"
   ]
  },
  {
   "cell_type": "code",
   "execution_count": 88,
   "id": "1a43e739",
   "metadata": {},
   "outputs": [
    {
     "name": "stdout",
     "output_type": "stream",
     "text": [
      "<pandas.core.groupby.generic.DataFrameGroupBy object at 0x000002DD9965E2E0>\n"
     ]
    }
   ],
   "source": [
    "print(group_data)"
   ]
  },
  {
   "cell_type": "code",
   "execution_count": 89,
   "id": "ab269216",
   "metadata": {},
   "outputs": [
    {
     "data": {
      "text/html": [
       "<div>\n",
       "<style scoped>\n",
       "    .dataframe tbody tr th:only-of-type {\n",
       "        vertical-align: middle;\n",
       "    }\n",
       "\n",
       "    .dataframe tbody tr th {\n",
       "        vertical-align: top;\n",
       "    }\n",
       "\n",
       "    .dataframe thead th {\n",
       "        text-align: right;\n",
       "    }\n",
       "</style>\n",
       "<table border=\"1\" class=\"dataframe\">\n",
       "  <thead>\n",
       "    <tr style=\"text-align: right;\">\n",
       "      <th></th>\n",
       "      <th>B</th>\n",
       "      <th>C</th>\n",
       "    </tr>\n",
       "    <tr>\n",
       "      <th>A</th>\n",
       "      <th></th>\n",
       "      <th></th>\n",
       "    </tr>\n",
       "  </thead>\n",
       "  <tbody>\n",
       "    <tr>\n",
       "      <th>a1</th>\n",
       "      <td>1.5</td>\n",
       "      <td>15.0</td>\n",
       "    </tr>\n",
       "    <tr>\n",
       "      <th>a2</th>\n",
       "      <td>3.5</td>\n",
       "      <td>35.0</td>\n",
       "    </tr>\n",
       "    <tr>\n",
       "      <th>a3</th>\n",
       "      <td>5.5</td>\n",
       "      <td>55.0</td>\n",
       "    </tr>\n",
       "  </tbody>\n",
       "</table>\n",
       "</div>"
      ],
      "text/plain": [
       "      B     C\n",
       "A            \n",
       "a1  1.5  15.0\n",
       "a2  3.5  35.0\n",
       "a3  5.5  55.0"
      ]
     },
     "execution_count": 89,
     "metadata": {},
     "output_type": "execute_result"
    }
   ],
   "source": [
    "group_data.mean()"
   ]
  },
  {
   "cell_type": "code",
   "execution_count": 90,
   "id": "04114d46",
   "metadata": {},
   "outputs": [],
   "source": [
    "df5.to_csv('sample_data.csv',index=True)"
   ]
  },
  {
   "cell_type": "code",
   "execution_count": 95,
   "id": "6e132f32",
   "metadata": {},
   "outputs": [],
   "source": [
    "d=pd.read_csv('sample_data.csv')"
   ]
  },
  {
   "cell_type": "code",
   "execution_count": 96,
   "id": "cfdf9b05",
   "metadata": {},
   "outputs": [
    {
     "name": "stdout",
     "output_type": "stream",
     "text": [
      "   Unnamed: 0 customer   color  sales  distance\n",
      "0           5        e  yellow     10       200\n",
      "1           6        f     red     20       123\n",
      "2           7        g  yellow     30        45\n",
      "3           8        h    blue     40         5\n"
     ]
    }
   ],
   "source": [
    "print(d)"
   ]
  },
  {
   "cell_type": "code",
   "execution_count": 97,
   "id": "ff5409cd",
   "metadata": {},
   "outputs": [],
   "source": [
    "d=pd.read_csv('sample_data.csv',index_col=0)"
   ]
  },
  {
   "cell_type": "code",
   "execution_count": 98,
   "id": "54824769",
   "metadata": {},
   "outputs": [
    {
     "name": "stdout",
     "output_type": "stream",
     "text": [
      "  customer   color  sales  distance\n",
      "5        e  yellow     10       200\n",
      "6        f     red     20       123\n",
      "7        g  yellow     30        45\n",
      "8        h    blue     40         5\n"
     ]
    }
   ],
   "source": [
    "print(d)"
   ]
  },
  {
   "cell_type": "code",
   "execution_count": 100,
   "id": "7af585e3",
   "metadata": {},
   "outputs": [],
   "source": [
    "df5.to_excel('sample_data.xlsx',index=False)"
   ]
  },
  {
   "cell_type": "code",
   "execution_count": 104,
   "id": "2bf9f899",
   "metadata": {},
   "outputs": [],
   "source": [
    "d=pd.read_excel('sample_data.xlsx')"
   ]
  },
  {
   "cell_type": "code",
   "execution_count": 105,
   "id": "67502959",
   "metadata": {},
   "outputs": [
    {
     "name": "stdout",
     "output_type": "stream",
     "text": [
      "  customer   color  sales  distance\n",
      "0        e  yellow     10       200\n",
      "1        f     red     20       123\n",
      "2        g  yellow     30        45\n",
      "3        h    blue     40         5\n"
     ]
    }
   ],
   "source": [
    "print(d)"
   ]
  },
  {
   "cell_type": "code",
   "execution_count": null,
   "id": "93b26fa5",
   "metadata": {},
   "outputs": [],
   "source": []
  }
 ],
 "metadata": {
  "kernelspec": {
   "display_name": "Python 3 (ipykernel)",
   "language": "python",
   "name": "python3"
  },
  "language_info": {
   "codemirror_mode": {
    "name": "ipython",
    "version": 3
   },
   "file_extension": ".py",
   "mimetype": "text/x-python",
   "name": "python",
   "nbconvert_exporter": "python",
   "pygments_lexer": "ipython3",
   "version": "3.9.12"
  }
 },
 "nbformat": 4,
 "nbformat_minor": 5
}
